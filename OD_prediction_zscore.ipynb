{
 "cells": [
  {
   "cell_type": "code",
   "execution_count": 1,
   "metadata": {},
   "outputs": [
    {
     "name": "stderr",
     "output_type": "stream",
     "text": [
      "\n",
      "Bad key text.latex.unicode in file /home/jiang/anaconda3/lib/python3.6/site-packages/matplotlib/mpl-data/stylelib/_classic_test.mplstyle, line 112 ('text.latex.unicode : False # use \"ucs\" and \"inputenc\" LaTeX packages for handling')\n",
      "You probably need to get an updated matplotlibrc file from\n",
      "https://github.com/matplotlib/matplotlib/blob/v3.3.4/matplotlibrc.template\n",
      "or from the matplotlib source distribution\n",
      "\n",
      "Bad key savefig.frameon in file /home/jiang/anaconda3/lib/python3.6/site-packages/matplotlib/mpl-data/stylelib/_classic_test.mplstyle, line 423 ('savefig.frameon : True')\n",
      "You probably need to get an updated matplotlibrc file from\n",
      "https://github.com/matplotlib/matplotlib/blob/v3.3.4/matplotlibrc.template\n",
      "or from the matplotlib source distribution\n",
      "\n",
      "Bad key pgf.debug in file /home/jiang/anaconda3/lib/python3.6/site-packages/matplotlib/mpl-data/stylelib/_classic_test.mplstyle, line 444 ('pgf.debug           : False')\n",
      "You probably need to get an updated matplotlibrc file from\n",
      "https://github.com/matplotlib/matplotlib/blob/v3.3.4/matplotlibrc.template\n",
      "or from the matplotlib source distribution\n",
      "\n",
      "Bad key verbose.level in file /home/jiang/anaconda3/lib/python3.6/site-packages/matplotlib/mpl-data/stylelib/_classic_test.mplstyle, line 475 ('verbose.level  : silent      # one of silent, helpful, debug, debug-annoying')\n",
      "You probably need to get an updated matplotlibrc file from\n",
      "https://github.com/matplotlib/matplotlib/blob/v3.3.4/matplotlibrc.template\n",
      "or from the matplotlib source distribution\n",
      "\n",
      "Bad key verbose.fileo in file /home/jiang/anaconda3/lib/python3.6/site-packages/matplotlib/mpl-data/stylelib/_classic_test.mplstyle, line 476 ('verbose.fileo  : sys.stdout  # a log filename, sys.stdout or sys.stderr')\n",
      "You probably need to get an updated matplotlibrc file from\n",
      "https://github.com/matplotlib/matplotlib/blob/v3.3.4/matplotlibrc.template\n",
      "or from the matplotlib source distribution\n",
      "In /home/jiang/anaconda3/lib/python3.6/site-packages/matplotlib/mpl-data/stylelib/_classic_test.mplstyle: \n",
      "The text.latex.preview rcparam was deprecated in Matplotlib 3.3 and will be removed two minor releases later.\n",
      "In /home/jiang/anaconda3/lib/python3.6/site-packages/matplotlib/mpl-data/stylelib/_classic_test.mplstyle: \n",
      "The mathtext.fallback_to_cm rcparam was deprecated in Matplotlib 3.3 and will be removed two minor releases later.\n",
      "In /home/jiang/anaconda3/lib/python3.6/site-packages/matplotlib/mpl-data/stylelib/_classic_test.mplstyle: Support for setting the 'mathtext.fallback_to_cm' rcParam is deprecated since 3.3 and will be removed two minor releases later; use 'mathtext.fallback : 'cm' instead.\n",
      "In /home/jiang/anaconda3/lib/python3.6/site-packages/matplotlib/mpl-data/stylelib/_classic_test.mplstyle: \n",
      "The validate_bool_maybe_none function was deprecated in Matplotlib 3.3 and will be removed two minor releases later.\n",
      "In /home/jiang/anaconda3/lib/python3.6/site-packages/matplotlib/mpl-data/stylelib/_classic_test.mplstyle: \n",
      "The savefig.jpeg_quality rcparam was deprecated in Matplotlib 3.3 and will be removed two minor releases later.\n",
      "In /home/jiang/anaconda3/lib/python3.6/site-packages/matplotlib/mpl-data/stylelib/_classic_test.mplstyle: \n",
      "The keymap.all_axes rcparam was deprecated in Matplotlib 3.3 and will be removed two minor releases later.\n",
      "In /home/jiang/anaconda3/lib/python3.6/site-packages/matplotlib/mpl-data/stylelib/_classic_test.mplstyle: \n",
      "The animation.avconv_path rcparam was deprecated in Matplotlib 3.3 and will be removed two minor releases later.\n",
      "In /home/jiang/anaconda3/lib/python3.6/site-packages/matplotlib/mpl-data/stylelib/_classic_test.mplstyle: \n",
      "The animation.avconv_args rcparam was deprecated in Matplotlib 3.3 and will be removed two minor releases later.\n"
     ]
    },
    {
     "name": "stdout",
     "output_type": "stream",
     "text": [
      "425\n"
     ]
    },
    {
     "name": "stderr",
     "output_type": "stream",
     "text": [
      "/home/jiang/anaconda3/lib/python3.6/site-packages/sklearn/preprocessing/_data.py:3237: RuntimeWarning: divide by zero encountered in log\n",
      "  loglike = -n_samples / 2 * np.log(x_trans.var())\n",
      "/home/jiang/anaconda3/lib/python3.6/site-packages/sklearn/preprocessing/_data.py:2615: UserWarning: n_quantiles (1000) is greater than the total number of samples (425). n_quantiles is set to n_samples.\n",
      "  % (self.n_quantiles, n_samples))\n"
     ]
    },
    {
     "name": "stdout",
     "output_type": "stream",
     "text": [
      "data0.shape, data1.shape data2.shape data3.shape (425, 2209) (425, 2209) (425, 2209) (425, 2209)\n"
     ]
    }
   ],
   "source": [
    "import scipy.sparse as ss\n",
    "import numpy as np\n",
    "import pandas as pd\n",
    "import pickle as pk\n",
    "import matplotlib.pyplot as plt\n",
    "import time\n",
    "import japanize_matplotlib # pip install japanize-matplotlib\n",
    "import pyswarms as ps\n",
    "import math\n",
    "import jpholiday\n",
    "from sklearn.preprocessing import StandardScaler\n",
    "from sklearn.preprocessing import PowerTransformer\n",
    "from sklearn.preprocessing import QuantileTransformer\n",
    "\n",
    "ODPATH = 'data/od_day20180101_20210228.npz'\n",
    "OD_DAYS = [date.strftime('%Y-%m-%d') for date in pd.date_range(start='2020-01-01', end='2021-02-28', freq='1D')]\n",
    "print(len(OD_DAYS))\n",
    "\n",
    "data = ss.load_npz(ODPATH)\n",
    "data = np.array(data.todense())\n",
    "data = data[-len(OD_DAYS):, :]\n",
    "scaler = StandardScaler()\n",
    "pt = PowerTransformer()\n",
    "qt = QuantileTransformer(output_distribution='normal')\n",
    "data0 = np.log(data+1.0)\n",
    "data1 = scaler.fit_transform(data) # original_data = scaler.inverse_transform(data1)\n",
    "data2 = pt.fit_transform(data)\n",
    "data3 = qt.fit_transform(data)\n",
    "print('data0.shape, data1.shape', 'data2.shape', 'data3.shape', data0.shape, data1.shape, data2.shape, data3.shape)"
   ]
  },
  {
   "cell_type": "code",
   "execution_count": 2,
   "metadata": {},
   "outputs": [
    {
     "name": "stdout",
     "output_type": "stream",
     "text": [
      "14.254364664192764 0.0\n"
     ]
    },
    {
     "data": {
      "text/plain": [
       "(array([4.43854e+05, 9.47390e+04, 8.03350e+04, 7.00550e+04, 5.56060e+04,\n",
       "        4.36000e+04, 3.57740e+04, 3.07700e+04, 2.41040e+04, 1.37580e+04,\n",
       "        1.14960e+04, 7.77100e+03, 3.45200e+03, 1.12800e+03, 3.16100e+03,\n",
       "        8.45000e+03, 6.22300e+03, 2.30100e+03, 1.94900e+03, 2.99000e+02]),\n",
       " array([ 0.        ,  0.71271823,  1.42543647,  2.1381547 ,  2.85087293,\n",
       "         3.56359117,  4.2763094 ,  4.98902763,  5.70174587,  6.4144641 ,\n",
       "         7.12718233,  7.83990057,  8.5526188 ,  9.26533703,  9.97805526,\n",
       "        10.6907735 , 11.40349173, 12.11620996, 12.8289282 , 13.54164643,\n",
       "        14.25436466]),\n",
       " <BarContainer object of 20 artists>)"
      ]
     },
     "execution_count": 2,
     "metadata": {},
     "output_type": "execute_result"
    },
    {
     "data": {
      "image/png": "[encoded data removed]",
      "text/plain": [
       "<Figure size 432x288 with 1 Axes>"
      ]
     },
     "metadata": {
      "needs_background": "light"
     },
     "output_type": "display_data"
    }
   ],
   "source": [
    "#log\n",
    "print(np.max(data0), np.min(data0))\n",
    "plt.hist(data0.ravel(), bins=20)"
   ]
  },
  {
   "cell_type": "code",
   "execution_count": 3,
   "metadata": {},
   "outputs": [
    {
     "name": "stdout",
     "output_type": "stream",
     "text": [
      "17.57053158790035 -4.14680415224563\n"
     ]
    },
    {
     "data": {
      "text/plain": [
       "(array([4.90000e+01, 1.51800e+03, 8.26290e+04, 6.01281e+05, 1.59925e+05,\n",
       "        6.24130e+04, 1.98480e+04, 6.66600e+03, 2.53500e+03, 1.09200e+03,\n",
       "        4.80000e+02, 1.93000e+02, 9.00000e+01, 4.70000e+01, 1.50000e+01,\n",
       "        2.10000e+01, 7.00000e+00, 1.20000e+01, 2.00000e+00, 2.00000e+00]),\n",
       " array([-4.14680415, -3.06093737, -1.97507058, -0.88920379,  0.196663  ,\n",
       "         1.28252978,  2.36839657,  3.45426336,  4.54013014,  5.62599693,\n",
       "         6.71186372,  7.7977305 ,  8.88359729,  9.96946408, 11.05533087,\n",
       "        12.14119765, 13.22706444, 14.31293123, 15.39879801, 16.4846648 ,\n",
       "        17.57053159]),\n",
       " <BarContainer object of 20 artists>)"
      ]
     },
     "execution_count": 3,
     "metadata": {},
     "output_type": "execute_result"
    },
    {
     "data": {
      "image/png": "[encoded data removed]",
      "text/plain": [
       "<Figure size 432x288 with 1 Axes>"
      ]
     },
     "metadata": {
      "needs_background": "light"
     },
     "output_type": "display_data"
    }
   ],
   "source": [
    "# StandardScaler\n",
    "print(np.max(data1), np.min(data1))\n",
    "plt.hist(data1.ravel(), bins=20)"
   ]
  },
  {
   "cell_type": "code",
   "execution_count": 4,
   "metadata": {},
   "outputs": [
    {
     "name": "stdout",
     "output_type": "stream",
     "text": [
      "14.543039572248992 -6.24320093749564\n"
     ]
    },
    {
     "data": {
      "text/plain": [
       "(array([6.00000e+00, 3.50000e+01, 5.24000e+02, 8.19600e+03, 8.74940e+04,\n",
       "        4.69552e+05, 2.24713e+05, 1.19146e+05, 2.36730e+04, 3.52800e+03,\n",
       "        1.25600e+03, 4.87000e+02, 1.15000e+02, 6.30000e+01, 2.30000e+01,\n",
       "        8.00000e+00, 0.00000e+00, 0.00000e+00, 0.00000e+00, 6.00000e+00]),\n",
       " array([-6.24320094e+00, -5.20388891e+00, -4.16457689e+00, -3.12526486e+00,\n",
       "        -2.08595284e+00, -1.04664081e+00, -7.32878457e-03,  1.03198324e+00,\n",
       "         2.07129527e+00,  3.11060729e+00,  4.14991932e+00,  5.18923134e+00,\n",
       "         6.22854337e+00,  7.26785539e+00,  8.30716742e+00,  9.34647944e+00,\n",
       "         1.03857915e+01,  1.14251035e+01,  1.24644155e+01,  1.35037275e+01,\n",
       "         1.45430396e+01]),\n",
       " <BarContainer object of 20 artists>)"
      ]
     },
     "execution_count": 4,
     "metadata": {},
     "output_type": "execute_result"
    },
    {
     "data": {
      "image/png": "[encoded data removed]",
      "text/plain": [
       "<Figure size 432x288 with 1 Axes>"
      ]
     },
     "metadata": {
      "needs_background": "light"
     },
     "output_type": "display_data"
    }
   ],
   "source": [
    "# PowerTransformer\n",
    "print(np.max(data2), np.min(data2))\n",
    "plt.hist(data2.ravel(), bins=20)"
   ]
  },
  {
   "cell_type": "code",
   "execution_count": 5,
   "metadata": {},
   "outputs": [
    {
     "name": "stdout",
     "output_type": "stream",
     "text": [
      "5.19933758270342 -5.199337582605575\n"
     ]
    },
    {
     "data": {
      "text/plain": [
       "(array([337375.,      0.,      0.,      0.,    576.,   4222.,  14403.,\n",
       "         36803.,  72022., 109012., 127098., 110819.,  74611.,  34744.,\n",
       "         11127.,   1822.,      0.,      0.,      0.,   4191.]),\n",
       " array([-5.19933758e+00, -4.67940382e+00, -4.15947007e+00, -3.63953631e+00,\n",
       "        -3.11960255e+00, -2.59966879e+00, -2.07973503e+00, -1.55980127e+00,\n",
       "        -1.03986752e+00, -5.19933758e-01,  4.89217555e-11,  5.19933758e-01,\n",
       "         1.03986752e+00,  1.55980127e+00,  2.07973503e+00,  2.59966879e+00,\n",
       "         3.11960255e+00,  3.63953631e+00,  4.15947007e+00,  4.67940382e+00,\n",
       "         5.19933758e+00]),\n",
       " <BarContainer object of 20 artists>)"
      ]
     },
     "execution_count": 5,
     "metadata": {},
     "output_type": "execute_result"
    },
    {
     "data": {
      "image/png": "[encoded data removed]",
      "text/plain": [
       "<Figure size 432x288 with 1 Axes>"
      ]
     },
     "metadata": {
      "needs_background": "light"
     },
     "output_type": "display_data"
    }
   ],
   "source": [
    "# QuantileTransformer\n",
    "print(np.max(data3), np.min(data3))\n",
    "plt.hist(data3.ravel(), bins=20)"
   ]
  }
 ],
 "metadata": {
  "kernelspec": {
   "display_name": "Python 3",
   "language": "python",
   "name": "python3"
  },
  "language_info": {
   "codemirror_mode": {
    "name": "ipython",
    "version": 3
   },
   "file_extension": ".py",
   "mimetype": "text/x-python",
   "name": "python",
   "nbconvert_exporter": "python",
   "pygments_lexer": "ipython3",
   "version": "3.6.10"
  }
 },
 "nbformat": 4,
 "nbformat_minor": 4
}
